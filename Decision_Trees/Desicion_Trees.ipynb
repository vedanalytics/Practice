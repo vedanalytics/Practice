{
 "cells": [
  {
   "cell_type": "markdown",
   "metadata": {},
   "source": [
    "# Decision Trees"
   ]
  },
  {
   "cell_type": "markdown",
   "metadata": {},
   "source": [
    "\n",
    "<div id=\"body\" class=\"MissionLearn__section___3Mtj9 MissionMarkup__root___3FAB8\"><div><p>Decision trees are a powerful and popular machine learning technique.  The basic concept is very similar to trees you may have seen commonly used to aid decision-making.  Here's an example:</p>\n",
    "<div><diagram><svg class=\"diagram\" xmlns=\"http://www.w3.org/2000/svg\" version=\"1.1\" height=\"448\" width=\"368\"><g transform=\"translate(8,16 )\">\n",
    "<path d=\"M 0,192 L 0,240 \" style=\"fill:none;stroke:#000;\"></path>\n",
    "<path d=\"M 32,144 L 32,192 \" style=\"fill:none;stroke:#000;\"></path>\n",
    "<path d=\"M 40,32 L 40,96 \" style=\"fill:none;stroke:#000;\"></path>\n",
    "<path d=\"M 72,192 L 72,240 \" style=\"fill:none;stroke:#000;\"></path>\n",
    "<path d=\"M 112,96 L 112,144 \" style=\"fill:none;stroke:#000;\"></path>\n",
    "<path d=\"M 120,352 L 120,400 \" style=\"fill:none;stroke:#000;\"></path>\n",
    "<path d=\"M 152,304 L 152,352 \" style=\"fill:none;stroke:#000;\"></path>\n",
    "<path d=\"M 168,208 L 168,256 \" style=\"fill:none;stroke:#000;\"></path>\n",
    "<path d=\"M 192,32 L 192,96 \" style=\"fill:none;stroke:#000;\"></path>\n",
    "<path d=\"M 200,352 L 200,400 \" style=\"fill:none;stroke:#000;\"></path>\n",
    "<path d=\"M 208,144 L 208,208 \" style=\"fill:none;stroke:#000;\"></path>\n",
    "<path d=\"M 224,256 L 224,304 \" style=\"fill:none;stroke:#000;\"></path>\n",
    "<path d=\"M 264,352 L 264,400 \" style=\"fill:none;stroke:#000;\"></path>\n",
    "<path d=\"M 288,208 L 288,256 \" style=\"fill:none;stroke:#000;\"></path>\n",
    "<path d=\"M 304,304 L 304,352 \" style=\"fill:none;stroke:#000;\"></path>\n",
    "<path d=\"M 352,352 L 352,400 \" style=\"fill:none;stroke:#000;\"></path>\n",
    "<path d=\"M 40,32 L 192,32 \" style=\"fill:none;stroke:#000;\"></path>\n",
    "<path d=\"M 40,96 L 192,96 \" style=\"fill:none;stroke:#000;\"></path>\n",
    "<path d=\"M 32,144 L 208,144 \" style=\"fill:none;stroke:#000;\"></path>\n",
    "<path d=\"M 0,192 L 72,192 \" style=\"fill:none;stroke:#000;\"></path>\n",
    "<path d=\"M 168,208 L 288,208 \" style=\"fill:none;stroke:#000;\"></path>\n",
    "<path d=\"M 0,240 L 72,240 \" style=\"fill:none;stroke:#000;\"></path>\n",
    "<path d=\"M 168,256 L 288,256 \" style=\"fill:none;stroke:#000;\"></path>\n",
    "<path d=\"M 152,304 L 304,304 \" style=\"fill:none;stroke:#000;\"></path>\n",
    "<path d=\"M 120,352 L 200,352 \" style=\"fill:none;stroke:#000;\"></path>\n",
    "<path d=\"M 264,352 L 352,352 \" style=\"fill:none;stroke:#000;\"></path>\n",
    "<path d=\"M 120,400 L 200,400 \" style=\"fill:none;stroke:#000;\"></path>\n",
    "<path d=\"M 264,400 L 352,400 \" style=\"fill:none;stroke:#000;\"></path>\n",
    "<g transform=\"translate(0,0)\"><text text-anchor=\"middle\" x=\"0\" y=\"20\" style=\"fill:#000\">S</text><text text-anchor=\"middle\" x=\"8\" y=\"20\" style=\"fill:#000\">h</text><text text-anchor=\"middle\" x=\"16\" y=\"20\" style=\"fill:#000\">o</text><text text-anchor=\"middle\" x=\"24\" y=\"20\" style=\"fill:#000\">u</text><text text-anchor=\"middle\" x=\"32\" y=\"20\" style=\"fill:#000\">l</text><text text-anchor=\"middle\" x=\"40\" y=\"20\" style=\"fill:#000\">d</text><text text-anchor=\"middle\" x=\"56\" y=\"20\" style=\"fill:#000\">I</text><text text-anchor=\"middle\" x=\"72\" y=\"20\" style=\"fill:#000\">w</text><text text-anchor=\"middle\" x=\"80\" y=\"20\" style=\"fill:#000\">r</text><text text-anchor=\"middle\" x=\"88\" y=\"20\" style=\"fill:#000\">e</text><text text-anchor=\"middle\" x=\"96\" y=\"20\" style=\"fill:#000\">s</text><text text-anchor=\"middle\" x=\"104\" y=\"20\" style=\"fill:#000\">t</text><text text-anchor=\"middle\" x=\"112\" y=\"20\" style=\"fill:#000\">l</text><text text-anchor=\"middle\" x=\"120\" y=\"20\" style=\"fill:#000\">e</text><text text-anchor=\"middle\" x=\"136\" y=\"20\" style=\"fill:#000\">t</text><text text-anchor=\"middle\" x=\"144\" y=\"20\" style=\"fill:#000\">h</text><text text-anchor=\"middle\" x=\"152\" y=\"20\" style=\"fill:#000\">i</text><text text-anchor=\"middle\" x=\"160\" y=\"20\" style=\"fill:#000\">s</text><text text-anchor=\"middle\" x=\"176\" y=\"20\" style=\"fill:#000\">b</text><text text-anchor=\"middle\" x=\"184\" y=\"20\" style=\"fill:#000\">e</text><text text-anchor=\"middle\" x=\"192\" y=\"20\" style=\"fill:#000\">a</text><text text-anchor=\"middle\" x=\"200\" y=\"20\" style=\"fill:#000\">r</text><text text-anchor=\"middle\" x=\"208\" y=\"20\" style=\"fill:#000\">?</text><text text-anchor=\"middle\" x=\"56\" y=\"52\" style=\"fill:#000\">I</text><text text-anchor=\"middle\" x=\"64\" y=\"52\" style=\"fill:#000\">s</text><text text-anchor=\"middle\" x=\"80\" y=\"52\" style=\"fill:#000\">t</text><text text-anchor=\"middle\" x=\"88\" y=\"52\" style=\"fill:#000\">h</text><text text-anchor=\"middle\" x=\"96\" y=\"52\" style=\"fill:#000\">e</text><text text-anchor=\"middle\" x=\"112\" y=\"52\" style=\"fill:#000\">b</text><text text-anchor=\"middle\" x=\"120\" y=\"52\" style=\"fill:#000\">e</text><text text-anchor=\"middle\" x=\"128\" y=\"52\" style=\"fill:#000\">a</text><text text-anchor=\"middle\" x=\"136\" y=\"52\" style=\"fill:#000\">r</text><text text-anchor=\"middle\" x=\"56\" y=\"68\" style=\"fill:#000\">l</text><text text-anchor=\"middle\" x=\"64\" y=\"68\" style=\"fill:#000\">a</text><text text-anchor=\"middle\" x=\"72\" y=\"68\" style=\"fill:#000\">r</text><text text-anchor=\"middle\" x=\"80\" y=\"68\" style=\"fill:#000\">g</text><text text-anchor=\"middle\" x=\"88\" y=\"68\" style=\"fill:#000\">e</text><text text-anchor=\"middle\" x=\"96\" y=\"68\" style=\"fill:#000\">?</text><text text-anchor=\"middle\" x=\"56\" y=\"132\" style=\"fill:#000\">N</text><text text-anchor=\"middle\" x=\"64\" y=\"132\" style=\"fill:#000\">o</text><text text-anchor=\"middle\" x=\"152\" y=\"132\" style=\"fill:#000\">Y</text><text text-anchor=\"middle\" x=\"160\" y=\"132\" style=\"fill:#000\">e</text><text text-anchor=\"middle\" x=\"168\" y=\"132\" style=\"fill:#000\">s</text><text text-anchor=\"middle\" x=\"8\" y=\"212\" style=\"fill:#000\">W</text><text text-anchor=\"middle\" x=\"16\" y=\"212\" style=\"fill:#000\">r</text><text text-anchor=\"middle\" x=\"24\" y=\"212\" style=\"fill:#000\">e</text><text text-anchor=\"middle\" x=\"32\" y=\"212\" style=\"fill:#000\">s</text><text text-anchor=\"middle\" x=\"40\" y=\"212\" style=\"fill:#000\">t</text><text text-anchor=\"middle\" x=\"48\" y=\"212\" style=\"fill:#000\">l</text><text text-anchor=\"middle\" x=\"56\" y=\"212\" style=\"fill:#000\">e</text><text text-anchor=\"middle\" x=\"176\" y=\"228\" style=\"fill:#000\">C</text><text text-anchor=\"middle\" x=\"184\" y=\"228\" style=\"fill:#000\">a</text><text text-anchor=\"middle\" x=\"192\" y=\"228\" style=\"fill:#000\">n</text><text text-anchor=\"middle\" x=\"208\" y=\"228\" style=\"fill:#000\">I</text><text text-anchor=\"middle\" x=\"224\" y=\"228\" style=\"fill:#000\">r</text><text text-anchor=\"middle\" x=\"232\" y=\"228\" style=\"fill:#000\">u</text><text text-anchor=\"middle\" x=\"240\" y=\"228\" style=\"fill:#000\">n</text><text text-anchor=\"middle\" x=\"176\" y=\"244\" style=\"fill:#000\">a</text><text text-anchor=\"middle\" x=\"184\" y=\"244\" style=\"fill:#000\">w</text><text text-anchor=\"middle\" x=\"192\" y=\"244\" style=\"fill:#000\">a</text><text text-anchor=\"middle\" x=\"200\" y=\"244\" style=\"fill:#000\">y</text><text text-anchor=\"middle\" x=\"208\" y=\"244\" style=\"fill:#000\">?</text><text text-anchor=\"middle\" x=\"176\" y=\"292\" style=\"fill:#000\">N</text><text text-anchor=\"middle\" x=\"184\" y=\"292\" style=\"fill:#000\">o</text><text text-anchor=\"middle\" x=\"256\" y=\"292\" style=\"fill:#000\">Y</text><text text-anchor=\"middle\" x=\"264\" y=\"292\" style=\"fill:#000\">e</text><text text-anchor=\"middle\" x=\"272\" y=\"292\" style=\"fill:#000\">s</text><text text-anchor=\"middle\" x=\"128\" y=\"372\" style=\"fill:#000\">W</text><text text-anchor=\"middle\" x=\"136\" y=\"372\" style=\"fill:#000\">r</text><text text-anchor=\"middle\" x=\"144\" y=\"372\" style=\"fill:#000\">e</text><text text-anchor=\"middle\" x=\"152\" y=\"372\" style=\"fill:#000\">s</text><text text-anchor=\"middle\" x=\"160\" y=\"372\" style=\"fill:#000\">t</text><text text-anchor=\"middle\" x=\"168\" y=\"372\" style=\"fill:#000\">l</text><text text-anchor=\"middle\" x=\"176\" y=\"372\" style=\"fill:#000\">e</text><text text-anchor=\"middle\" x=\"272\" y=\"372\" style=\"fill:#000\">R</text><text text-anchor=\"middle\" x=\"280\" y=\"372\" style=\"fill:#000\">u</text><text text-anchor=\"middle\" x=\"288\" y=\"372\" style=\"fill:#000\">n</text><text text-anchor=\"middle\" x=\"304\" y=\"372\" style=\"fill:#000\">a</text><text text-anchor=\"middle\" x=\"312\" y=\"372\" style=\"fill:#000\">w</text><text text-anchor=\"middle\" x=\"320\" y=\"372\" style=\"fill:#000\">a</text><text text-anchor=\"middle\" x=\"328\" y=\"372\" style=\"fill:#000\">y</text></g></g></svg></diagram></div>\n",
    "<p>In the diagram above, we're deciding whether we should wrestle a bear that's in front of us.  We're using various criteria to make our final decision, including the size of the bear, and whether escape is possible.  Let's say we had a data set of people who survived bear encounters and the actions they took:</p>\n",
    "</div><div class=\"MissionMarkup__code_block___2vANs DqEditor__root___2C-3R\"><textarea autocomplete=\"off\" style=\"display: none;\">Bear name    Size    Escape possible?    Action\n",
    "Yogi         Small   No                  Wrestle\n",
    "Winnie       Small   Yes                 Wrestle\n",
    "Baloo        Large   Yes                 Run away\n",
    "Gentle Ben   Large   No                  Wrestle</textarea><div class=\"CodeMirror cm-s-dq-light CodeMirror-wrap\"><div style=\"overflow: hidden; position: relative; width: 3px; height: 0px; top: 43.5px; left: 301px;\"><textarea autocorrect=\"off\" autocapitalize=\"off\" spellcheck=\"false\" style=\"position: absolute; bottom: -1em; padding: 0px; width: 1000px; height: 1em; outline: none;\" tabindex=\"0\"></textarea></div><div class=\"CodeMirror-vscrollbar\" cm-not-content=\"true\"><div style=\"min-width: 1px; height: 0px;\"></div></div><div class=\"CodeMirror-hscrollbar\" cm-not-content=\"true\"><div style=\"height: 100%; min-height: 1px; width: 0px;\"></div></div><div class=\"CodeMirror-scrollbar-filler\" cm-not-content=\"true\"></div><div class=\"CodeMirror-gutter-filler\" cm-not-content=\"true\"></div><div class=\"CodeMirror-scroll\" tabindex=\"-1\"><div class=\"CodeMirror-sizer\" style=\"margin-left: 0px; margin-bottom: -17px; border-right-width: 13px; min-height: 109px; padding-right: 0px; padding-bottom: 0px;\"><div style=\"position: relative; top: 0px;\"><div class=\"CodeMirror-lines\" role=\"presentation\"><div role=\"presentation\" style=\"position: relative; outline: none;\"><div class=\"CodeMirror-measure\"><pre>x</pre></div><div class=\"CodeMirror-measure\"></div><div style=\"position: relative; z-index: 1;\"></div><div class=\"CodeMirror-cursors\" style=\"visibility: hidden;\"><div class=\"CodeMirror-cursor\" style=\"left: 301px; top: 36px; height: 18px;\">&nbsp;</div></div><div class=\"CodeMirror-code\" role=\"presentation\" style=\"\"><pre class=\" CodeMirror-line \" role=\"presentation\"><span role=\"presentation\" style=\"padding-right: 0.1px;\"><span class=\"cm-variable\">Bear</span> <span class=\"cm-variable\">name</span> &nbsp; &nbsp;<span class=\"cm-variable\">Size</span> &nbsp; &nbsp;<span class=\"cm-variable\">Escape</span> <span class=\"cm-variable\">possible</span><span class=\"cm-error\">?</span> &nbsp; &nbsp;<span class=\"cm-variable\">Action</span></span></pre><pre class=\" CodeMirror-line \" role=\"presentation\"><span role=\"presentation\" style=\"padding-right: 0.1px;\"><span class=\"cm-variable\">Yogi</span> &nbsp; &nbsp; &nbsp; &nbsp; <span class=\"cm-variable\">Small</span> &nbsp; <span class=\"cm-variable\">No</span> &nbsp; &nbsp; &nbsp; &nbsp; &nbsp; &nbsp; &nbsp; &nbsp; &nbsp;<span class=\"cm-variable\">Wrestle</span></span></pre><pre class=\" CodeMirror-line \" role=\"presentation\"><span role=\"presentation\" style=\"padding-right: 0.1px;\"><span class=\"cm-variable\">Winnie</span> &nbsp; &nbsp; &nbsp; <span class=\"cm-variable\">Small</span> &nbsp; <span class=\"cm-variable\">Yes</span> &nbsp; &nbsp; &nbsp; &nbsp; &nbsp; &nbsp; &nbsp; &nbsp; <span class=\"cm-variable\">Wrestle</span></span></pre><pre class=\" CodeMirror-line \" role=\"presentation\"><span role=\"presentation\" style=\"padding-right: 0.1px;\"><span class=\"cm-variable\">Baloo</span> &nbsp; &nbsp; &nbsp; &nbsp;<span class=\"cm-variable\">Large</span> &nbsp; <span class=\"cm-variable\">Yes</span> &nbsp; &nbsp; &nbsp; &nbsp; &nbsp; &nbsp; &nbsp; &nbsp; <span class=\"cm-variable\">Run</span> <span class=\"cm-variable\">away</span></span></pre><pre class=\" CodeMirror-line \" role=\"presentation\"><span role=\"presentation\" style=\"padding-right: 0.1px;\"><span class=\"cm-variable\">Gentle</span> <span class=\"cm-variable\">Ben</span> &nbsp; <span class=\"cm-variable\">Large</span> &nbsp; <span class=\"cm-variable\">No</span> &nbsp; &nbsp; &nbsp; &nbsp; &nbsp; &nbsp; &nbsp; &nbsp; &nbsp;<span class=\"cm-variable\">Wrestle</span></span></pre></div></div></div></div></div><div style=\"position: absolute; height: 13px; width: 1px; border-bottom: 0px solid transparent; top: 109px;\"></div><div class=\"CodeMirror-gutters\" style=\"display: none; height: 122px;\"></div></div></div></div><div>\n",
    "<p>If we wanted to optimize our chances of surviving a bear encounter, we could construct a decision tree to tell us what action to take.</p>\n",
    "<p>As our data set gets larger though, this becomes less and less practical.  What if we had 10000 rows and 10 variables?  Would you want to look through all of the possibilities to construct a tree?</p>\n",
    "<p>This is where the decision tree machine learning algorithm can help.  It enables us to automatically construct a decision tree that tells us what outcomes we should predict in certain situations.  </p>\n",
    "<p>The decision tree algorithm is a supervised learning algorithm -- we first construct the tree with historical data, and then use it to predict an outcome.  One of the major advantages of decision trees is that they can pick up nonlinear interactions between variables in the data that linear regression can't.  In our bear wrestling example, a decision tree can pick up on the fact that you should only wrestle large bears when escape is impossible, whereas a linear regression would have had to weight both factors in the absence of the other.</p>\n",
    "<p>We can use trees for classification or regression problems.  In this lesson, we'll walk through the building blocks of making a decision tree automatically.</p></div></div>"
   ]
  },
  {
   "cell_type": "markdown",
   "metadata": {},
   "source": [
    "We'll be looking at individual income in the United States. The data is from the 1994 census, and contains information on an individual's marital status, age, type of work, and more. The target column, or what we want to predict, is whether individuals make less than or equal to 50k a year, or more than 50k a year."
   ]
  },
  {
   "cell_type": "code",
   "execution_count": 1,
   "metadata": {},
   "outputs": [
    {
     "name": "stdout",
     "output_type": "stream",
     "text": [
      "   age          workclass  fnlwgt   education  education_num  \\\n",
      "0   39          State-gov   77516   Bachelors             13   \n",
      "1   50   Self-emp-not-inc   83311   Bachelors             13   \n",
      "2   38            Private  215646     HS-grad              9   \n",
      "3   53            Private  234721        11th              7   \n",
      "4   28            Private  338409   Bachelors             13   \n",
      "\n",
      "        marital_status          occupation    relationship    race      sex  \\\n",
      "0        Never-married        Adm-clerical   Not-in-family   White     Male   \n",
      "1   Married-civ-spouse     Exec-managerial         Husband   White     Male   \n",
      "2             Divorced   Handlers-cleaners   Not-in-family   White     Male   \n",
      "3   Married-civ-spouse   Handlers-cleaners         Husband   Black     Male   \n",
      "4   Married-civ-spouse      Prof-specialty            Wife   Black   Female   \n",
      "\n",
      "   capital_gain  capital_loss  hours_per_week  native_country high_income  \n",
      "0          2174             0              40   United-States       <=50K  \n",
      "1             0             0              13   United-States       <=50K  \n",
      "2             0             0              40   United-States       <=50K  \n",
      "3             0             0              40   United-States       <=50K  \n",
      "4             0             0              40            Cuba       <=50K  \n"
     ]
    }
   ],
   "source": [
    "import pandas\n",
    "\n",
    "# Set index_col to False to avoid pandas thinking that the first column is row indexes (it's age)\n",
    "income = pandas.read_csv(\"income.csv\", index_col=False)\n",
    "print(income.head(5))"
   ]
  },
  {
   "cell_type": "markdown",
   "metadata": {},
   "source": [
    "As we can see in our data, we have categorical variables such as workclass that have string values. Multiple individuals can share the same string value. The types of work include State-gov, Self-emp-not-inc, Private, and so on. Each of these strings is a label for a category. Another example of a column of categories is sex, where the options are Male and Female.\n",
    "\n",
    "Before we get started with decision trees, we need to convert the categorical variables in our data set to numeric variables. This involves assigning a number to each category label, then converting all of the labels in a column to the corresponding numbers.\n",
    "\n",
    "One strategy is to convert the columns to a categorical type. Under this approach, pandas will display the labels as strings, but internally store them as numbers so we can do computations with them. The numbers aren't always compatible with other libraries like Scikit-learn, though, so it's easier to just do the conversion to numeric upfront."
   ]
  },
  {
   "cell_type": "code",
   "execution_count": 2,
   "metadata": {
    "collapsed": true
   },
   "outputs": [],
   "source": [
    "#Converting categorical column to numeric\n",
    "col = pandas.Categorical(income['workclass'])\n",
    "income['workclass'] = col.codes"
   ]
  },
  {
   "cell_type": "code",
   "execution_count": 3,
   "metadata": {
    "collapsed": true
   },
   "outputs": [],
   "source": [
    "#Converting remaining categorical columns to numeric\n",
    "for name in [\"education\", \"marital_status\", \"occupation\", \"relationship\", \"race\", \"sex\", \"native_country\", \"high_income\"]:\n",
    "    col = pandas.Categorical(income[name])\n",
    "    income[name] = col.codes"
   ]
  },
  {
   "cell_type": "markdown",
   "metadata": {},
   "source": [
    "A decision tree is made up of a series of nodes and branches. A node is where we split the data based on a variable, and a branch is one side of the split. Here's an example:\n",
    "\n",
    "W\n",
    "h\n",
    "a\n",
    "t\n",
    "i\n",
    "n\n",
    "c\n",
    "o\n",
    "m\n",
    "e\n",
    "d\n",
    "o\n",
    "p\n",
    "e\n",
    "o\n",
    "p\n",
    "l\n",
    "e\n",
    "m\n",
    "a\n",
    "k\n",
    "e\n",
    "?\n",
    "D\n",
    "o\n",
    "t\n",
    "h\n",
    "e\n",
    "y\n",
    "w\n",
    "o\n",
    "r\n",
    "k\n",
    "i\n",
    "n\n",
    "t\n",
    "h\n",
    "e\n",
    "P\n",
    "r\n",
    "i\n",
    "v\n",
    "a\n",
    "t\n",
    "e\n",
    "s\n",
    "e\n",
    "c\n",
    "t\n",
    "o\n",
    "r\n",
    "?\n",
    "N\n",
    "o\n",
    "Y\n",
    "e\n",
    "s\n",
    "In the diagram above, the node splits the data into two branches, No and Yes, based on whether the individual works in the private sector (the workclass column). We've mapped the value Private in the workclass column to the numeric code 4 (we can check this by comparing the values in the workclass column that used to have the label Private with the current values to see where they line up). So the No branch corresponds to workclass != 4, and the Yes branch corresponds to workclass == 4.\n",
    "\n",
    "This is exactly how a decision tree works -- we keep splitting the data based on variables. As we do this, the tree accumulates more levels. The tree we made above is two levels deep because it has one split, and two \"levels\" of nodes.\n",
    "\n",
    "The tree below is three levels deep.\n",
    "\n",
    "W\n",
    "h\n",
    "a\n",
    "t\n",
    "i\n",
    "n\n",
    "c\n",
    "o\n",
    "m\n",
    "e\n",
    "d\n",
    "o\n",
    "p\n",
    "e\n",
    "o\n",
    "p\n",
    "l\n",
    "e\n",
    "m\n",
    "a\n",
    "k\n",
    "e\n",
    "?\n",
    "D\n",
    "o\n",
    "t\n",
    "h\n",
    "e\n",
    "y\n",
    "w\n",
    "o\n",
    "r\n",
    "k\n",
    "i\n",
    "n\n",
    "t\n",
    "h\n",
    "e\n",
    "P\n",
    "r\n",
    "i\n",
    "v\n",
    "a\n",
    "t\n",
    "e\n",
    "s\n",
    "e\n",
    "c\n",
    "t\n",
    "o\n",
    "r\n",
    "?\n",
    "N\n",
    "o\n",
    "Y\n",
    "e\n",
    "s\n",
    "N\n",
    "a\n",
    "t\n",
    "i\n",
    "v\n",
    "e\n",
    "t\n",
    "o\n",
    "t\n",
    "h\n",
    "e\n",
    "U\n",
    "S\n",
    "?\n",
    "N\n",
    "o\n",
    "Y\n",
    "e\n",
    "s\n",
    "We added another split point to this tree \"below\", or after, our first split point. This made the tree three levels deep."
   ]
  },
  {
   "cell_type": "markdown",
   "metadata": {},
   "source": [
    "Now think of rows of data flowing through a decision tree. In the diagram above, we can split the data set into two portions based on whether the individual works in the private sector or not."
   ]
  },
  {
   "cell_type": "code",
   "execution_count": 4,
   "metadata": {},
   "outputs": [
    {
     "name": "stdout",
     "output_type": "stream",
     "text": [
      "(22696, 15)\n",
      "(9865, 15)\n"
     ]
    }
   ],
   "source": [
    "# Enter your code here\n",
    "private_incomes = income[income[\"workclass\"] == 4]\n",
    "public_incomes = income[income[\"workclass\"] != 4]\n",
    "\n",
    "print(private_incomes.shape)\n",
    "print(public_incomes.shape)"
   ]
  },
  {
   "cell_type": "markdown",
   "metadata": {},
   "source": [
    "When we performed the split, 9865 rows went to the left, where workclass does not equal 4, and 22696 rows went to the right, where workclass equals 4.\n",
    "\n",
    "It's useful to think of a decision tree as a flow of rows of data. When we make a split, some rows will go to the right, and some will go to the left. As we build the tree deeper and deeper, each node will \"receive\" fewer and fewer rows."
   ]
  },
  {
   "cell_type": "markdown",
   "metadata": {},
   "source": [
    "The nodes at the bottom of the tree, where we decide to stop splitting, are called terminal nodes, or leaves. When we do our splits, we aren't doing them randomly; we have an objective. Our goal is to ensure that we can make a prediction on future data. In order to do this, all rows in each leaf must have only one value for our target column.\n",
    "\n",
    "We're trying to predict the high_income column.\n",
    "If high_income is 1, it means that the person has an income higher than 50k a year.\n",
    "If high_income is 0, it means that they have an income less than or equal to 50k a year.\n",
    "\n",
    "After constructing a tree using the income data, we'll want to make predictions. In order to do this, we'll take a new row and feed it through our decision tree.\n",
    "\n",
    "First, we check whether the person works in the private sector. If they do, we'll check to see whether they're native to the US, and so on.\n",
    "\n",
    "Eventually, we'll reach a leaf. The leaf will tell us what value we should predict for high_income.\n",
    "\n",
    "In order to be able to make this prediction, all of the rows in a leaf should only have a single value for high_income. This means that leaves can't have both 0 and 1 values in the high_income column. Each leaf can only have rows with the same values for our target column. If this isn't the case, we won't be able to make effective predictions.\n",
    "\n",
    "We'll need to continue splitting nodes until we get to a point where all of the rows in a node have the same value for high_income"
   ]
  },
  {
   "cell_type": "markdown",
   "metadata": {},
   "source": [
    "Now that we have a high-level view of how decision trees work, let's explore the details and learn how to perform the splits.\n",
    "\n",
    "We'll use a specific measure to figure out which variables we should split nodes on. Post-split, we'll have two data sets, each containing the rows from one branch of the split.\n",
    "\n",
    "Because we're trying to reach the leaves having only 1s or only 0s in high_income, each split will need to get us closer to that goal.\n",
    "\n",
    "When we split, we'll try to separate as many 0s from 1s in the high_income column as we can. In order to do this, we need a metric for how \"together\" the different values in the high_income column are.\n",
    "\n",
    "Data scientists commonly use a metric called entropy for this purpose. Entropy refers to disorder. The more \"mixed together\" 1s and 0s are, the higher the entropy. A data set consisting entirely of 1s in the high_income column would have low entropy.\n",
    "\n",
    "Entropy, which is not to be confused with entropy from physics, comes from information theory. Information theory is based on probability and statistics, and deals with the transmission, processing, utilization, and extraction of information. A key concept in information theory is the notion of a bit of information. One bit of information is one unit of information.\n",
    "\n",
    "We can represent a bit of information as a binary number because it either has the value 1 or 0. Suppose there's an equal probability of tomorrow being sunny (1) or not sunny (0). If I tell you that it will be sunny, I've given you one bit of information.\n",
    "\n",
    "We can also think of entropy in terms of information. If we flip a coin where both sides are heads, we know upfront that the result will be heads. We gain no new information by flipping the coin, so entropy is 0. On the other hand, if the coin has a heads side and a tails side, there's a 50% probability that it will land on either. Thus, flipping the coin gives us one bit of information -- which side the coin landed on.\n",
    "\n",
    "Entropy can be much more complex, especially when we get to cases with more than two possible outcomes, or differential probabilities. A deep understanding of entropy isn't necessary for constructing decision trees, however. If you'd like, you can read more about entropy at Wikipedia.\n",
    "\n",
    "The formula for entropy looks like this:\n",
    "\n",
    "\\begin{equation*}-\\sum_{i=1}^{c} {\\mathrm{P}(x_i) \\log_b \\mathrm{P}(x_i)}\\end{equation*}\n",
    "We iterate through each unique value in a single column (in this case, high_income), and assign it to i. We then compute the probability of that value occurring in the data (P(xi)). Next we do some multiplication, and sum all of the values together. b is the base of the logarithm. We commonly use the value 2 for this, but we can also set it to 10 or another value.\n",
    "\n",
    "Let's say we have this data:\n",
    "\n",
    "\n",
    "    age    high_income\n",
    "    25     1\n",
    "    50     1\n",
    "    30     0\n",
    "    50     0\n",
    "    80     1\n",
    "We could compute its entropy like this:\n",
    "\n",
    "\\begin{equation*}-\\sum_{i=1}^{c} {\\mathrm{P}(x_i) \\log_b \\mathrm{P}(x_i)} \\nonumber \\\\ -((2/5 * \\log_2 2/5) + (3/5 * \\log_2 3/5)) \\nonumber \\\\ -(-0.5287712379549449 + -0.44217935649972373)\\nonumber \\\\ .97 \\nonumber \\\\ \\end{equation*}\n",
    "We get less than one \"bit\" of information -- only .97 -- because there are slightly more 1s in the sample data than 0s. This means that if we were predicting a new value, we could guess that the answer is 1 and be right more often than wrong (because there's a .6 probability of the answer being 1). Due to this prior knowledge, we gain less than a full \"bit\" of information when we observe a new value."
   ]
  },
  {
   "cell_type": "markdown",
   "metadata": {},
   "source": [
    "## Computing Entropy"
   ]
  },
  {
   "cell_type": "code",
   "execution_count": 5,
   "metadata": {
    "collapsed": true
   },
   "outputs": [],
   "source": [
    "import math"
   ]
  },
  {
   "cell_type": "code",
   "execution_count": 6,
   "metadata": {
    "collapsed": true
   },
   "outputs": [],
   "source": [
    "prob_0 = income[income[\"high_income\"] == 0].shape[0] / income.shape[0]\n",
    "prob_1 = income[income[\"high_income\"] == 1].shape[0] / income.shape[0]\n",
    "income_entropy = -(prob_0 * math.log(prob_0, 2) + prob_1 * math.log(prob_1, 2))"
   ]
  },
  {
   "cell_type": "markdown",
   "metadata": {},
   "source": [
    "We'll need a way to go from computing entropy to figuring out which variable to split on. We can do this using information gain, which tells us which split will reduce entropy the most.\n",
    "\n",
    "Here's the formula for information gain:\n",
    "\\begin{equation*}IG(T,A) = Entropy(T)-\\sum_{v\\in A}\\frac{|T_{v}|}{|T|} \\cdot Entropy(T_{v})\\end{equation*}\n",
    "\n",
    "It may look complicated, but we'll break it down. We're computing information gain (IG) for a given target variable (T), as well as a given variable we want to split on (A).\n",
    "\n",
    "To compute it, we first calculate the entropy for T. Then, for each unique value v in the variable A, we compute the number of rows in which A takes on the value v, and divide it by the total number of rows. Next, we multiply the results by the entropy of the rows where A is v. We add all of these subset entropies together, then subtract from the overall entropy to get information gain.\n",
    "\n",
    "Here's an alternate explanation. We're finding the entropy of each set post-split, weighting it by the number of items in each split, then subtracting from the current entropy. If the result is positive, we've lowered entropy with our split. The higher the result is, the more we've lowered entropy.\n",
    "\n",
    "One strategy for constructing trees is to create as many branches at each node as there are unique values for the variable we're splitting on. So if the variable has three or four values, we'd end up with three or four branches. This approach usually involves more complexity than it's worth and doesn't improve prediction accuracy, but it's worth knowing about.\n",
    "\n",
    "To simplify the calculation of information gain and make splits simpler, we won't do it for each unique value. We'll find the median for the variable we're splitting on instead. Any rows where the value of the variable is below the median will go to the left branch, and the rest of the rows will go to the right branch. To compute information gain, we'll only have to compute entropies for two subsets.\n",
    "\n",
    "Here's an example that uses the same data set we worked with earlier:\n",
    "\n",
    "    age    high_income\n",
    "    25     1\n",
    "    50     1\n",
    "    30     0\n",
    "    50     0\n",
    "    80     1"
   ]
  },
  {
   "cell_type": "markdown",
   "metadata": {},
   "source": [
    "Let's say we wanted to split this data set based on age. First, we calculate the median age, which is 50. Then, we assign any row with a value less than or equal to the median age the value 0 (in a new column named split_age), and the other rows 1.\n",
    "    age    high_income    split_age\n",
    "    25     1              0\n",
    "    50     1              0\n",
    "    30     0              0\n",
    "    50     0              0\n",
    "    80     1              1\n",
    "\n",
    "Now we compute entropy:\n",
    "\\begin{equation} IG(T,A) = Entropy(T)-\\sum_{v\\in A}\\frac{|T_{v}|}{|T|} \\cdot Entropy(T_{v}) \\nonumber \\\\ .97 - (((4/5) * -(1/2 * log_{2} 1/2 + 1/2 * log_{2} 1/2 )) + -(1/5 * (0 * log_{2} 0 + 1 * log_{2} 1 ))) \\nonumber \\\\ .97 - ((4/5) * -(-.5 + -.5)) + (1/5 * -(0 + 1 * 0 )) \\nonumber \\\\ .97 - (4/5) \\nonumber \\\\ .169 \\nonumber \\\\ \\end{equation}\n",
    "\n",
    "We end up with .17, which means that we gain .17 bits of information by splitting our data set on the age variable."
   ]
  },
  {
   "cell_type": "markdown",
   "metadata": {
    "collapsed": true
   },
   "source": [
    "## Calculating Information gain:\n",
    "Compute the information gain for splitting on the age column of income.\n",
    "\n",
    "First, compute the median of age.\n",
    "Then, assign anything less than or equal to the median to the left branch, and anything greater than the median to the right branch.\n",
    "Compute the information gain and assign it to age_information_gain."
   ]
  },
  {
   "cell_type": "code",
   "execution_count": 7,
   "metadata": {},
   "outputs": [
    {
     "name": "stdout",
     "output_type": "stream",
     "text": [
      "0.970950594455\n",
      "0.170950594455\n"
     ]
    }
   ],
   "source": [
    "import numpy\n",
    "\n",
    "def calc_entropy(column):\n",
    "    \"\"\"\n",
    "    Calculate entropy given a pandas series, list, or numpy array.\n",
    "    \"\"\"\n",
    "    # Compute the counts of each unique value in the column\n",
    "    counts = numpy.bincount(column)\n",
    "    # Divide by the total column length to get a probability\n",
    "    probabilities = counts / len(column)\n",
    "    \n",
    "    # Initialize the entropy to 0\n",
    "    entropy = 0\n",
    "    # Loop through the probabilities, and add each one to the total entropy\n",
    "    for prob in probabilities:\n",
    "        if prob > 0:\n",
    "            entropy += prob * math.log(prob, 2)\n",
    "    \n",
    "    return -entropy\n",
    "\n",
    "# Verify that our function matches our answer from earlier\n",
    "entropy = calc_entropy([1,1,0,0,1])\n",
    "print(entropy)\n",
    "\n",
    "information_gain = entropy - ((.8 * calc_entropy([1,1,0,0])) + (.2 * calc_entropy([1])))\n",
    "print(information_gain)\n",
    "income_entropy = calc_entropy(income[\"high_income\"])\n",
    "\n",
    "median_age = income[\"age\"].median()\n",
    "\n",
    "left_split = income[income[\"age\"] <= median_age]\n",
    "right_split = income[income[\"age\"] > median_age]\n",
    "\n",
    "age_information_gain = income_entropy - ((left_split.shape[0] / income.shape[0]) * calc_entropy(left_split[\"high_income\"]) + ((right_split.shape[0] / income.shape[0]) * calc_entropy(right_split[\"high_income\"])))"
   ]
  },
  {
   "cell_type": "markdown",
   "metadata": {},
   "source": [
    "Now that we know how to compute information gain, we can determine the best variable to split a node on. When we start our tree, we want to make an initial split. We'll find the variable to split on by calculating which split would have the highest information gain."
   ]
  },
  {
   "cell_type": "code",
   "execution_count": 8,
   "metadata": {},
   "outputs": [
    {
     "name": "stdout",
     "output_type": "stream",
     "text": [
      "0.0470286613047\n"
     ]
    }
   ],
   "source": [
    "def calc_information_gain(data, split_name, target_name):\n",
    "    \"\"\"\n",
    "    Calculate information gain given a data set, column to split on, and target\n",
    "    \"\"\"\n",
    "    # Calculate the original entropy\n",
    "    original_entropy = calc_entropy(data[target_name])\n",
    "    \n",
    "    # Find the median of the column we're splitting\n",
    "    column = data[split_name]\n",
    "    median = column.median()\n",
    "    \n",
    "    # Make two subsets of the data, based on the median\n",
    "    left_split = data[column <= median]\n",
    "    right_split = data[column > median]\n",
    "    \n",
    "    # Loop through the splits and calculate the subset entropies\n",
    "    to_subtract = 0\n",
    "    for subset in [left_split, right_split]:\n",
    "        prob = (subset.shape[0] / data.shape[0]) \n",
    "        to_subtract += prob * calc_entropy(subset[target_name])\n",
    "    \n",
    "    # Return information gain\n",
    "    return original_entropy - to_subtract\n",
    "\n",
    "# Verify that our answer is the same as on the last screen\n",
    "print(calc_information_gain(income, \"age\", \"high_income\"))\n",
    "\n",
    "columns = [\"age\", \"workclass\", \"education_num\", \"marital_status\", \"occupation\", \"relationship\", \"race\", \"sex\", \"hours_per_week\", \"native_country\"]\n",
    "information_gains = [calc_information_gain(income,column,\"high_income\") for column in columns]\n",
    "highest_gain_index = information_gains.index(max(information_gains))\n",
    "highest_gain = columns[highest_gain_index]"
   ]
  },
  {
   "cell_type": "markdown",
   "metadata": {
    "collapsed": true
   },
   "source": [
    "## Constructing Decision Tree using ID3"
   ]
  },
  {
   "cell_type": "raw",
   "metadata": {},
   "source": [
    "def id3(data, target, columns)\n",
    "    1 Create a node for the tree\n",
    "    2 If all values of the target attribute are 1, Return the node, with label = 1\n",
    "    3 If all values of the target attribute are 0, Return the node, with label = 0\n",
    "    4 Using information gain, find A, the column that splits the data best\n",
    "    5 Find the median value in column A\n",
    "    6 Split column A into values below or equal to the median (0), and values above the median (1)\n",
    "    7 For each possible value (0 or 1), vi, of A,\n",
    "    8    Add a new tree branch below Root that corresponds to rows of data where A = vi\n",
    "    9    Let Examples(vi) be the subset of examples that have the value vi for A\n",
    "   10    Below this new branch add the subtree id3(data[A==vi], target, columns)\n",
    "   11 Return Root"
   ]
  },
  {
   "cell_type": "markdown",
   "metadata": {
    "collapsed": true
   },
   "source": [
    "Now we need a function that returns the name of the column we should use to split a data set. The function should take the name of the data set, the target column, and a list of columns we might want to split on as input."
   ]
  },
  {
   "cell_type": "code",
   "execution_count": 9,
   "metadata": {
    "collapsed": true
   },
   "outputs": [],
   "source": [
    "def find_best_column(data, target_name, columns):\n",
    "    # data is a dataframe\n",
    "    # target_name is the name of the target variable\n",
    "    # columns is a list of potential columns to split on\n",
    "    information_gains = [calc_information_gain(data,column,target_name) for column in columns]\n",
    "    highest_gain_index = information_gains.index(max(information_gains))\n",
    "    highest_gain = columns[highest_gain_index]\n",
    "    return highest_gain\n",
    "\n",
    "# A list of columns to potentially split income with\n",
    "columns = [\"age\", \"workclass\", \"education_num\", \"marital_status\", \"occupation\", \"relationship\", \"race\", \"sex\", \"hours_per_week\", \"native_country\"]\n",
    "income_split = find_best_column(income,\"high_income\",columns)"
   ]
  },
  {
   "cell_type": "markdown",
   "metadata": {},
   "source": [
    "Let's build up to making the full id3() function by creating a simpler algorithm that we can extend. Here's what that algorithm looks like in pseudocode:"
   ]
  },
  {
   "cell_type": "raw",
   "metadata": {},
   "source": [
    "def id3(data, target, columns)\n",
    "    1 Create a node for the tree\n",
    "    2 If all values of the target attribute are 1, add 1 to counter_1\n",
    "    3 If all values of the target attribute are 0, add 1 to counter_0\n",
    "    4 Using information gain, find A, the column that splits the data best\n",
    "    5 Find the median value in column A\n",
    "    6 Split A into values below or equal to the median (0), and values above the median (1)\n",
    "    7 For each possible value (0 or 1), vi, of A,\n",
    "    8    Add a new tree branch below Root that corresponds to rows of data where A = vi\n",
    "    9    Let Examples(vi) be the subset of examples that have the value vi for A\n",
    "   10    Below this new branch, add the subtree id3(data[A==vi], target, columns)\n",
    "   11 Return Root"
   ]
  },
  {
   "cell_type": "markdown",
   "metadata": {},
   "source": [
    "This version is very similar to the algorithm above, but lines 2 and 3 are different. Rather than storing the entire tree (which is a bit complicated), we'll just tally how many leaves end up with the label 1, and how many end up with the label 0.\n",
    "\n",
    "We'll replicate this algorithm in code, and apply it to the same data set we just stepped through on a previous screen:"
   ]
  },
  {
   "cell_type": "raw",
   "metadata": {},
   "source": [
    "high_income    age    marital_status\n",
    "0              20     0\n",
    "0              60     2\n",
    "0              40     1\n",
    "1              25     1\n",
    "1              35     2\n",
    "1              55     1"
   ]
  },
  {
   "cell_type": "code",
   "execution_count": 10,
   "metadata": {
    "collapsed": true
   },
   "outputs": [],
   "source": [
    "def id3(data, target, columns):\n",
    "    unique_targets = pandas.unique(data[target])\n",
    "\n",
    "    if len(unique_targets) == 1:\n",
    "        if 0 in unique_targets:\n",
    "            label_0s.append(0)\n",
    "        elif 1 in unique_targets:\n",
    "            label_1s.append(1)\n",
    "        return\n",
    "    \n",
    "    best_column = find_best_column(data, target, columns)\n",
    "    column_median = data[best_column].median()\n",
    "    \n",
    "    left_split = data[data[best_column] <= column_median]\n",
    "    right_split = data[data[best_column] > column_median]\n",
    "    \n",
    "    for split in [left_split, right_split]:\n",
    "        id3(split, target, columns)\n",
    "\n"
   ]
  },
  {
   "cell_type": "markdown",
   "metadata": {},
   "source": [
    "Now we can store the entire tree, rather than the leaf labels only. We'll use nested dictionaries to do this. We can represent the root node with a dictionary, and branches with the keys left and right. We'll store the column we're splitting on as the key column, and the median value as the key median. Finally, we can store the label for a leaf as the key label. We'll also number each node as we go along using the number key.\n",
    "\n",
    "We'll use the same data set we've been working with:"
   ]
  },
  {
   "cell_type": "raw",
   "metadata": {},
   "source": [
    "high_income    age    marital_status\n",
    "0              20     0\n",
    "0              60     2\n",
    "0              40     1\n",
    "1              25     1\n",
    "1              35     2\n",
    "1              55     1"
   ]
  },
  {
   "cell_type": "markdown",
   "metadata": {},
   "source": [
    "In order to keep track of the tree, we'll need to make some modifications to id3(). The first modification involves changing the definition to pass in the tree dictionary:"
   ]
  },
  {
   "cell_type": "raw",
   "metadata": {},
   "source": [
    "def id3(data, target, columns, tree)\n",
    "    1 Create a node for the tree\n",
    "    2 Number the node\n",
    "    3 If all of the values of the target attribute are 1, assign 1 to the label key in tree\n",
    "    4 If all of the values of the target attribute are 0, assign 0 to the label key in tree\n",
    "    5 Using information gain, find A, the column that splits the data best\n",
    "    6 Find the median value in column A\n",
    "    7 Assign the column and median keys in tree\n",
    "    8 Split A into values less than or equal to the median (0), and values above the median (1)\n",
    "    9 For each possible value (0 or 1), vi, of A,\n",
    "   10    Add a new tree branch below Root that corresponds to rows of data where A = vi\n",
    "   11    Let Examples(vi) be the subset of examples that have the value vi for A\n",
    "   12    Create a new key with the name corresponding to the side of the split (0=left, 1=right).  The value of this key should be an empty dictionary.\n",
    "   13    Below this new branch, add the subtree id3(data[A==vi], target, columns, tree[split_side])\n",
    "   14 Return Root"
   ]
  },
  {
   "cell_type": "markdown",
   "metadata": {},
   "source": [
    "Under this approach, we're now passing the tree dictionary into our id3 function and setting some keys on it. One complexity is in how we're creating the nested dictionary. For the left split, we're adding a key to the tree dictionary that looks like this:\n",
    "\n",
    "tree[\"left\"] = {}\n",
    "\n",
    "For the right side, we're adding:\n",
    "\n",
    "tree[\"right\"] = {}\n",
    "\n",
    "Now that we've added this key, we're able to pass our new dictionary into the recursive call to id3(). While this new dictionary will be the dictionary for that specific node, it will be tied back to the parent dictionary (because it's a key of the original dictionary).\n",
    "\n",
    "This process will continue building up the nested dictionary. We'll be able to access the entire dictionary using the variable tree we define before the function. Think of each recursive call as building a piece of the tree, which we can then access after all of the functions have terminated."
   ]
  },
  {
   "cell_type": "code",
   "execution_count": 11,
   "metadata": {
    "collapsed": true
   },
   "outputs": [],
   "source": [
    "# Create a dictionary to hold the tree  \n",
    "# It has to be outside of the function so we can access it later\n",
    "tree = {}\n",
    "\n",
    "# This list will let us number the nodes  \n",
    "# It has to be a list so we can access it inside the function\n",
    "nodes = []\n",
    "\n",
    "def id3(data, target, columns, tree):\n",
    "    unique_targets = pandas.unique(data[target])\n",
    "    \n",
    "    # Assign the number key to the node dictionary\n",
    "    nodes.append(len(nodes) + 1)\n",
    "    tree[\"number\"] = nodes[-1]\n",
    "\n",
    "    if len(unique_targets) == 1:\n",
    "        if 0 in unique_targets:\n",
    "            tree[\"label\"] = 0\n",
    "        elif 1 in unique_targets:\n",
    "            tree[\"label\"] =1\n",
    "        return\n",
    "    \n",
    "    best_column = find_best_column(data, target, columns)\n",
    "    column_median = data[best_column].median()\n",
    "    \n",
    "    tree[\"column\"] = best_column\n",
    "    tree[\"median\"] = column_median\n",
    "    \n",
    "    left_split = data[data[best_column] <= column_median]\n",
    "    right_split = data[data[best_column] > column_median]\n",
    "    split_dict = [[\"left\", left_split], [\"right\", right_split]]\n",
    "    \n",
    "    for name, split in split_dict:\n",
    "        tree[name] = {}\n",
    "        id3(split, target, columns, tree[name])\n",
    "\n"
   ]
  },
  {
   "cell_type": "code",
   "execution_count": 12,
   "metadata": {
    "collapsed": true
   },
   "outputs": [],
   "source": [
    "data = pandas.DataFrame([\n",
    "    [0,20,0],\n",
    "    [0,60,2],\n",
    "    [0,40,1],\n",
    "    [1,25,1],\n",
    "    [1,35,2],\n",
    "    [1,55,1]\n",
    "    ])\n",
    "# Assign column names to the data\n",
    "data.columns = [\"high_income\", \"age\", \"marital_status\"]"
   ]
  },
  {
   "cell_type": "code",
   "execution_count": 13,
   "metadata": {
    "collapsed": true
   },
   "outputs": [],
   "source": [
    "id3(data, \"high_income\", [\"age\", \"marital_status\"], tree)"
   ]
  },
  {
   "cell_type": "code",
   "execution_count": 14,
   "metadata": {},
   "outputs": [
    {
     "name": "stdout",
     "output_type": "stream",
     "text": [
      "{'number': 1, 'column': 'age', 'median': 37.5, 'left': {'number': 2, 'column': 'age', 'median': 25.0, 'left': {'number': 3, 'column': 'age', 'median': 22.5, 'left': {'number': 4, 'label': 0}, 'right': {'number': 5, 'label': 1}}, 'right': {'number': 6, 'label': 1}}, 'right': {'number': 7, 'column': 'age', 'median': 55.0, 'left': {'number': 8, 'column': 'age', 'median': 47.5, 'left': {'number': 9, 'label': 0}, 'right': {'number': 10, 'label': 1}}, 'right': {'number': 11, 'label': 0}}}\n"
     ]
    }
   ],
   "source": [
    "print(tree)"
   ]
  },
  {
   "cell_type": "markdown",
   "metadata": {},
   "source": [
    "The tree dictionary shows all of the relevant information, but it doesn't look very nice. We can fix its appearance by printing it out in a nicer format.\n",
    "\n",
    "To do this, we'll need to recursively iterate through our tree dictionary. Any dictionary that has a label key is a leaf. Whenever we find one, we'll print out the label. Otherwise, we'll loop through the tree's left and right keys and recursively call the same function.\n",
    "\n",
    "We also need to keep track of a depth variable. This variable will allow us to use indentation to indicate the order of the nodes. Before we print anything out, we'll prefix it with the number of spaces corresponding to the depth variable."
   ]
  },
  {
   "cell_type": "markdown",
   "metadata": {},
   "source": [
    "Here's the pseudocode:"
   ]
  },
  {
   "cell_type": "raw",
   "metadata": {},
   "source": [
    "def print_node(tree, depth):\n",
    "    1 Check for the presence of the \"label\" key in the tree\n",
    "    2     If found, print the label and return\n",
    "    3 Print out the tree's \"column\" and \"median\" keys\n",
    "    4 Iterate through the tree's \"left\" and \"right\" keys\n",
    "    5     Recursively call print_node(tree[key], depth+1)"
   ]
  },
  {
   "cell_type": "code",
   "execution_count": 15,
   "metadata": {
    "collapsed": true
   },
   "outputs": [],
   "source": [
    "def print_with_depth(string, depth):\n",
    "    # Add space before a string\n",
    "    prefix = \"    \" * depth\n",
    "    # Print a string, and indent it appropriately\n",
    "    print(\"{0}{1}\".format(prefix, string))"
   ]
  },
  {
   "cell_type": "code",
   "execution_count": 16,
   "metadata": {},
   "outputs": [
    {
     "name": "stdout",
     "output_type": "stream",
     "text": [
      "age > 37.5\n",
      "    age > 25.0\n",
      "        age > 22.5\n",
      "            Leaf: Label 0\n",
      "            Leaf: Label 1\n",
      "        Leaf: Label 1\n",
      "    age > 55.0\n",
      "        age > 47.5\n",
      "            Leaf: Label 0\n",
      "            Leaf: Label 1\n",
      "        Leaf: Label 0\n"
     ]
    }
   ],
   "source": [
    "def print_node(tree, depth):\n",
    "    if \"label\" in tree:\n",
    "        print_with_depth(\"Leaf: Label {0}\".format(tree[\"label\"]), depth)\n",
    "        return\n",
    "    print_with_depth(\"{0} > {1}\".format(tree[\"column\"], tree[\"median\"]), depth)\n",
    "    for branch in [tree[\"left\"], tree[\"right\"]]:\n",
    "        print_node(branch, depth+1)\n",
    "\n",
    "print_node(tree, 0)"
   ]
  },
  {
   "cell_type": "markdown",
   "metadata": {},
   "source": [
    "Let's write a function that makes predictions automatically. All we need to do is follow the split points we've already defined with a new row.\n",
    "\n",
    "Here's the pseudocode:"
   ]
  },
  {
   "cell_type": "raw",
   "metadata": {},
   "source": [
    "def predict(tree, row):\n",
    "    1 Check for the presence of \"label\" in the tree dictionary\n",
    "    2    If found, return tree[\"label\"]\n",
    "    3 Extract tree[\"column\"] and tree[\"median\"]\n",
    "    4 Check whether row[tree[\"column\"]] is less than or equal to tree[\"median\"]\n",
    "    5    If it's less than or equal, call predict(tree[\"left\"], row) and return the result\n",
    "    6    If it's greater, call predict(tree[\"right\"], row) and return the result"
   ]
  },
  {
   "cell_type": "code",
   "execution_count": 17,
   "metadata": {},
   "outputs": [
    {
     "name": "stdout",
     "output_type": "stream",
     "text": [
      "0\n"
     ]
    }
   ],
   "source": [
    "def predict(tree, row):\n",
    "    if \"label\" in tree:\n",
    "        return tree[\"label\"]\n",
    "    \n",
    "    column = tree[\"column\"]\n",
    "    median = tree[\"median\"]\n",
    "    if row[column] <= median:\n",
    "        return predict(tree[\"left\"], row)\n",
    "    else:\n",
    "        return predict(tree[\"right\"], row)\n",
    "\n",
    "print(predict(tree, data.iloc[0]))"
   ]
  },
  {
   "cell_type": "markdown",
   "metadata": {},
   "source": [
    "Now that we can make a prediction for a single row, we can write a function that makes predictions for multiple rows simultanously.\n",
    "\n",
    "To do this, we'll use the apply() method on pandas datafr"
   ]
  },
  {
   "cell_type": "code",
   "execution_count": 18,
   "metadata": {
    "collapsed": true
   },
   "outputs": [],
   "source": [
    "new_data = pandas.DataFrame([\n",
    "    [40,0],\n",
    "    [20,2],\n",
    "    [80,1],\n",
    "    [15,1],\n",
    "    [27,2],\n",
    "    [38,1]\n",
    "    ])\n",
    "# Assign column names to the data\n",
    "new_data.columns = [\"age\", \"marital_status\"]"
   ]
  },
  {
   "cell_type": "markdown",
   "metadata": {
    "collapsed": true
   },
   "source": [
    "## Using sklearn for Decision Trees"
   ]
  },
  {
   "cell_type": "code",
   "execution_count": 19,
   "metadata": {
    "collapsed": true
   },
   "outputs": [],
   "source": [
    "from sklearn.tree import DecisionTreeClassifier"
   ]
  },
  {
   "cell_type": "code",
   "execution_count": 20,
   "metadata": {
    "collapsed": true
   },
   "outputs": [],
   "source": [
    "# A list of columns to train with\n",
    "# We've already converted all columns to numeric\n",
    "columns = [\"age\", \"workclass\", \"education_num\", \"marital_status\", \"occupation\", \"relationship\", \"race\", \"sex\", \"hours_per_week\", \"native_country\"]"
   ]
  },
  {
   "cell_type": "code",
   "execution_count": 21,
   "metadata": {
    "collapsed": true
   },
   "outputs": [],
   "source": [
    "# Instantiate the classifier\n",
    "# Set random_state to 1 to make sure the results are consistent\n",
    "clf = DecisionTreeClassifier(random_state=1)"
   ]
  },
  {
   "cell_type": "markdown",
   "metadata": {},
   "source": [
    "We'll want to split our data into training and testing sets first. If we don't, we'll be making predictions on the same data that we train our algorithm with. This leads to overfitting, and will make our error appear lower than it is."
   ]
  },
  {
   "cell_type": "code",
   "execution_count": 23,
   "metadata": {
    "collapsed": true
   },
   "outputs": [],
   "source": [
    "import numpy\n",
    "import math\n",
    "\n",
    "# Set a random seed so the shuffle is the same every time\n",
    "numpy.random.seed(1)\n",
    "\n",
    "# Shuffle the rows  \n",
    "# This permutes the index randomly using numpy.random.permutation\n",
    "# Then, it reindexes the dataframe with the result\n",
    "# The net effect is to put the rows into random order\n",
    "income = income.reindex(numpy.random.permutation(income.index))\n",
    "\n",
    "train_max_row = math.floor(income.shape[0] * .8)\n",
    "train = income.iloc[:train_max_row]\n",
    "test = income.iloc[train_max_row:]"
   ]
  },
  {
   "cell_type": "markdown",
   "metadata": {},
   "source": [
    "## Fitting a decision tree"
   ]
  },
  {
   "cell_type": "code",
   "execution_count": 24,
   "metadata": {},
   "outputs": [
    {
     "data": {
      "text/plain": [
       "DecisionTreeClassifier(class_weight=None, criterion='gini', max_depth=None,\n",
       "            max_features=None, max_leaf_nodes=None,\n",
       "            min_impurity_decrease=0.0, min_impurity_split=None,\n",
       "            min_samples_leaf=1, min_samples_split=2,\n",
       "            min_weight_fraction_leaf=0.0, presort=False, random_state=1,\n",
       "            splitter='best')"
      ]
     },
     "execution_count": 24,
     "metadata": {},
     "output_type": "execute_result"
    }
   ],
   "source": [
    "from sklearn.metrics import roc_auc_score\n",
    "clf = DecisionTreeClassifier(random_state=1)\n",
    "clf.fit(train[columns],train['high_income'])"
   ]
  },
  {
   "cell_type": "code",
   "execution_count": 25,
   "metadata": {},
   "outputs": [
    {
     "name": "stdout",
     "output_type": "stream",
     "text": [
      "0.693465632475\n"
     ]
    }
   ],
   "source": [
    "predictions = clf.predict(test[columns])\n",
    "errors = roc_auc_score(test['high_income'],predictions)\n",
    "print(errors)"
   ]
  },
  {
   "cell_type": "markdown",
   "metadata": {},
   "source": [
    "The AUC for the predictions on the testing set is about .694. Let's compare this against the AUC for predictions on the training set to see if the model is overfitting.\n",
    "\n",
    "It's normal for the model to predict the training set better than the testing set. After all, it has full knowledge of that data and the outcomes. However, if the AUC between training set predictions and actual values is significantly higher than the AUC between test set predictions and actual values, it's a sign that the model may be overfitting."
   ]
  },
  {
   "cell_type": "code",
   "execution_count": 27,
   "metadata": {},
   "outputs": [
    {
     "name": "stdout",
     "output_type": "stream",
     "text": [
      "0.947124450144\n"
     ]
    }
   ],
   "source": [
    "train_predictions = clf.predict(train[columns])\n",
    "print(roc_auc_score(train['high_income'],train_predictions))"
   ]
  },
  {
   "cell_type": "markdown",
   "metadata": {},
   "source": [
    "There are three main ways to combat overfitting:\n",
    "\n",
    "\"Prune\" the tree after we build it to remove unnecessary leaves.\n",
    "Use ensembling to blend the predictions of many trees.\n",
    "Restrict the depth of the tree while we're building it.\n",
    "While we'll explore all of these, we'll look at the third method first.\n",
    "\n",
    "Limiting tree depth during the building process will result in more general rules. This prevents the tree from overfitting.\n",
    "\n",
    "We can restrict tree depth by adding a few parameters when we initialize the DecisionTreeClassifier class:\n",
    "\n",
    "    <ul><li>max_depth - Globally restricts how deep the tree can go</li>\n",
    "    <li>min_samples_split - The minimum number of rows a node should have before it can be split; if this is set to 2, for example,then nodes with 2 rows won't be split, and will become leaves instead</li>\n",
    "    <li>min_samples_leaf - The minimum number of rows a leaf must have</li>\n",
    "    <li>min_weight_fraction_leaf - The fraction of input rows a leaf must have</li>\n",
    "    <li>max_leaf_nodes - The maximum number of total leaves; this will cap the count of leaf nodes as the tree is being built\n",
    "                     Some of these parameters aren't compatible, however. For example, we can't use max_depth and max_leaf_nodes                      together.</li></ul>\n",
    "\n",
    "Now that we know what to tweak, let's improve our model."
   ]
  },
  {
   "cell_type": "code",
   "execution_count": 28,
   "metadata": {},
   "outputs": [
    {
     "name": "stdout",
     "output_type": "stream",
     "text": [
      "0.699561714515\n",
      "0.842143184928\n"
     ]
    }
   ],
   "source": [
    "# Decision trees model from the last screen\n",
    "clf = DecisionTreeClassifier(random_state=1)\n",
    "clf = DecisionTreeClassifier(min_samples_split=13, random_state=1)\n",
    "clf.fit(train[columns], train[\"high_income\"])\n",
    "predictions = clf.predict(test[columns])\n",
    "test_auc = roc_auc_score(test[\"high_income\"], predictions)\n",
    "\n",
    "train_predictions = clf.predict(train[columns])\n",
    "train_auc = roc_auc_score(train[\"high_income\"], train_predictions)\n",
    "\n",
    "print(test_auc)\n",
    "print(train_auc)"
   ]
  },
  {
   "cell_type": "markdown",
   "metadata": {},
   "source": [
    "By setting min_samples_split to 13, we managed to boost the test AUC from .694 to .700. The training set AUC decreased from .947 to .843, showing that the model we built was less overfit to the training set than before:\n",
    "\n",
    "        settings    \t   train AUC\ttest AUC\n",
    "        default             0.947   \t0.694\n",
    "    min_samples_split:13\t0.843\t    0.700\n",
    "Let's play around with parameters some more."
   ]
  },
  {
   "cell_type": "code",
   "execution_count": 29,
   "metadata": {},
   "outputs": [
    {
     "name": "stdout",
     "output_type": "stream",
     "text": [
      "0.693465632475\n",
      "0.947124450144\n",
      "0.743634499673\n",
      "0.748037708309\n"
     ]
    }
   ],
   "source": [
    "# The first decision trees model we trained and tested\n",
    "clf = DecisionTreeClassifier(random_state=1)\n",
    "clf.fit(train[columns], train[\"high_income\"])\n",
    "predictions = clf.predict(test[columns])\n",
    "test_auc = roc_auc_score(test[\"high_income\"], predictions)\n",
    "\n",
    "train_predictions = clf.predict(train[columns])\n",
    "train_auc = roc_auc_score(train[\"high_income\"], train_predictions)\n",
    "\n",
    "print(test_auc)\n",
    "print(train_auc)\n",
    "clf = DecisionTreeClassifier(random_state=1, min_samples_split=13, max_depth=7)\n",
    "clf.fit(train[columns], train[\"high_income\"])\n",
    "predictions = clf.predict(test[columns])\n",
    "test_auc = roc_auc_score(test[\"high_income\"], predictions)\n",
    "\n",
    "train_predictions = clf.predict(train[columns])\n",
    "train_auc = roc_auc_score(train[\"high_income\"], train_predictions)\n",
    "\n",
    "print(test_auc)\n",
    "print(train_auc)"
   ]
  },
  {
   "cell_type": "markdown",
   "metadata": {},
   "source": [
    "We just improved the AUC again! The test set AUC increased to .744, while the training set AUC decreased to .748:\n",
    "\n",
    "       settings\t                                     train AUC\ttest AUC\n",
    "    default (min_samples_split: 2, max_depth: None)\t 0.947\t    0.694\n",
    "    min_samples_split: 13\t                           0.843\t    0.700\n",
    "    min_samples_split: 13, max_depth: 7\t             0.748\t    0.7744\n",
    "We aren't overfitting anymore because both AUC values are about the same. Let's tweak the parameters more aggressively and see what happens!"
   ]
  },
  {
   "cell_type": "code",
   "execution_count": 31,
   "metadata": {},
   "outputs": [
    {
     "name": "stdout",
     "output_type": "stream",
     "text": [
      "0.693465632475\n",
      "0.947124450144\n",
      "0.655313848188\n",
      "0.662450804216\n"
     ]
    }
   ],
   "source": [
    "# The first decision tree model we trained and tested\n",
    "clf = DecisionTreeClassifier(random_state=1)\n",
    "clf.fit(train[columns], train[\"high_income\"])\n",
    "predictions = clf.predict(test[columns])\n",
    "test_auc = roc_auc_score(test[\"high_income\"], predictions)\n",
    "\n",
    "train_predictions = clf.predict(train[columns])\n",
    "train_auc = roc_auc_score(train[\"high_income\"], train_predictions)\n",
    "\n",
    "print(test_auc)\n",
    "print(train_auc)\n",
    "clf = DecisionTreeClassifier(random_state=1, min_samples_split=100, max_depth=2)\n",
    "clf.fit(train[columns], train[\"high_income\"])\n",
    "predictions = clf.predict(test[columns])\n",
    "test_auc = roc_auc_score(test[\"high_income\"], predictions)\n",
    "\n",
    "train_predictions = clf.predict(train[columns])\n",
    "train_auc = roc_auc_score(train[\"high_income\"], train_predictions)\n",
    "\n",
    "print(test_auc)\n",
    "print(train_auc)"
   ]
  },
  {
   "cell_type": "markdown",
   "metadata": {},
   "source": [
    "Our accuracy went down on the last screen, relative to the screen before it:\n",
    "\n",
    "        settings\t                                    train AUC\ttest AUC\n",
    "    default (min_samples_split: 2, max_depth: None)\t  0.947\t    0.694\n",
    "    min_samples_split: 13\t                            0.843\t    0.700\n",
    "    min_samples_split: 13, max_depth: 7\t              0.748\t    0.7744\n",
    "    min_samples_split: 100, max_depth: 2\t             0.662\t    0.655\n",
    "This is because we're now underfitting. Underfitting is what occurs when our model is too simple to explain the relationships between the variables."
   ]
  },
  {
   "cell_type": "markdown",
   "metadata": {},
   "source": [
    "By artificially restricting the depth of our tree, we prevent it from creating a model that's complex enough to correctly categorize some of the rows. If we don't perform the artificial restrictions, however, the tree becomes too complex, fits quirks in the data that only exist in the training set, and doesn't generalize to new data.\n",
    "\n",
    "This is known as the bias-variance tradeoff. Imagine that we take a random sample of training data and create many models. If the models' predictions for the same row are far apart from each other, we have high variance. Imagine this time that we take a random sample of the training data and create many models. If the models' predictions for the same row are close together but far from the actual value, then we have high bias.\n",
    "\n",
    "High bias can cause underfitting -- if a model is consistently failing to predict the correct value, it may be that it's too simple to model the data faithfully.\n",
    "\n",
    "High variance can cause overfitting. If a model varies its predictions significantly based on small changes in the input data, then it's likely fitting itself to quirks in the training data, rather than making a generalizable model.\n",
    "\n",
    "We call this the bias-variance tradeoff because decreasing one characteristic will usually increase the other. This is a limitation of all machine learning algorithms. If you'd like to read more about the tradeoff, check out programmer Scott Fortmann-Roe's post on this topic.\n",
    "\n",
    "Decision trees typically suffer from high variance. The entire structure of a decision tree can change if we make a minor alteration to its training data. By restricting the depth of the tree, we increase the bias and decrease the variance. If we restrict the depth too much, we increase bias to the point where it will underfit.\n",
    "\n",
    "You'll generally need to use your intuition and manually tweak parameters to get the \"right\" fit."
   ]
  },
  {
   "cell_type": "markdown",
   "metadata": {},
   "source": [
    "We can induce variance and see what happens with a decision tree. To introduce noise into the data, we'll add a column of random values. A model with high variance (like a decision tree) will pick up on this noise, and overfit to it. This is because models with high variance are very sensitive to small changes in input data."
   ]
  },
  {
   "cell_type": "code",
   "execution_count": 32,
   "metadata": {},
   "outputs": [
    {
     "name": "stdout",
     "output_type": "stream",
     "text": [
      "0.691406001394\n",
      "0.975076161435\n"
     ]
    }
   ],
   "source": [
    "numpy.random.seed(1)\n",
    "\n",
    "# Generate a column containing random numbers from 0 to 4\n",
    "income[\"noise\"] = numpy.random.randint(4, size=income.shape[0])\n",
    "\n",
    "# Adjust \"columns\" to include the noise column\n",
    "columns = [\"noise\", \"age\", \"workclass\", \"education_num\", \"marital_status\", \"occupation\", \"relationship\", \"race\", \"sex\", \"hours_per_week\", \"native_country\"]\n",
    "\n",
    "# Make new train and test sets\n",
    "train_max_row = math.floor(income.shape[0] * .8)\n",
    "train = income.iloc[:train_max_row]\n",
    "test = income.iloc[train_max_row:]\n",
    "\n",
    "# Initialize the classifier\n",
    "clf = DecisionTreeClassifier(random_state=1)\n",
    "clf.fit(train[columns], train[\"high_income\"])\n",
    "predictions = clf.predict(test[columns])\n",
    "test_auc = roc_auc_score(test[\"high_income\"], predictions)\n",
    "\n",
    "train_predictions = clf.predict(train[columns])\n",
    "train_auc = roc_auc_score(train[\"high_income\"], train_predictions)\n",
    "\n",
    "print(test_auc)\n",
    "print(train_auc)"
   ]
  },
  {
   "cell_type": "markdown",
   "metadata": {},
   "source": [
    "As you can see above, the random noise column causes significant overfitting. Our test set accuracy decreases to .691, and our training set accuracy increases to .975.\n",
    "\n",
    "One way to prevent overfitting is to block the tree from growing beyond a certain depth (we tried this before). Another technique is called pruning. Pruning involves building a full tree, and then removing the leaves that don't add to prediction accuracy. Pruning prevents a model from becoming overly complex. It can result in a simpler model that has higher accuracy on the testing set.\n",
    "\n",
    "Data scientists use pruning less often than parameter optimization (what we just did) and ensembling. It's still an important technique, though, and we'll cover it in more depth down the line."
   ]
  },
  {
   "cell_type": "markdown",
   "metadata": {},
   "source": [
    "Let's go over the main advantages and disadvantages of using decision trees. The main advantages of using decision trees is that they're:\n",
    "\n",
    "Easy to interpret\n",
    "Relatively fast to fit and make predictions\n",
    "Able to handle multiple types of data\n",
    "Able to pick up nonlinearities in data, and usually fairly accurate\n",
    "The main disadvantage of using decision trees is their tendency to overfit.\n",
    "\n",
    "Decision trees are a good choice for tasks where it's important to be able to interpret and convey why the algorithm is doing what it's doing.\n",
    "\n",
    "The most powerful way to reduce decision tree overfitting is to create ensembles of trees. The random forest algorithm is a popular choice for doing this. In cases where prediction accuracy is the most important consideration, random forests usually perform better."
   ]
  },
  {
   "cell_type": "code",
   "execution_count": null,
   "metadata": {
    "collapsed": true
   },
   "outputs": [],
   "source": []
  }
 ],
 "metadata": {
  "kernelspec": {
   "display_name": "Python 3",
   "language": "python",
   "name": "python3"
  },
  "language_info": {
   "codemirror_mode": {
    "name": "ipython",
    "version": 3
   },
   "file_extension": ".py",
   "mimetype": "text/x-python",
   "name": "python",
   "nbconvert_exporter": "python",
   "pygments_lexer": "ipython3",
   "version": "3.6.3"
  }
 },
 "nbformat": 4,
 "nbformat_minor": 2
}
